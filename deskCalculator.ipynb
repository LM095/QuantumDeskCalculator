{
 "cells": [
  {
   "cell_type": "markdown",
   "id": "thick-sherman",
   "metadata": {},
   "source": [
    "# Desk calculator project:\n",
    "\n",
    "The task is to build a quantum circuit that performs the difference between the binary reprentations\n",
    "of two positive integers. The circuit can be defined as a variation of the quantum adder explained\n",
    "in class and using the Quantum Fourier Transform.\n",
    "The circuit must be implemented in Qiskit and demonstrated on a one or two instances.\n",
    "The project can be extended with the implementation of a complete desk calculator"
   ]
  },
  {
   "cell_type": "markdown",
   "id": "communist-seven",
   "metadata": {},
   "source": [
    "## Toffoli approach"
   ]
  },
  {
   "cell_type": "code",
   "execution_count": 15,
   "id": "78b55e77",
   "metadata": {},
   "outputs": [],
   "source": [
    "from qiskit import *"
   ]
  },
  {
   "cell_type": "code",
   "execution_count": 16,
   "id": "552ba412",
   "metadata": {},
   "outputs": [
    {
     "name": "stdout",
     "output_type": "stream",
     "text": [
      "Enter a positive integer between 0 and 63: 6\n"
     ]
    },
    {
     "ename": "KeyboardInterrupt",
     "evalue": "Interrupted by user",
     "output_type": "error",
     "traceback": [
      "\u001b[0;31m---------------------------------------------------------------------------\u001b[0m",
      "\u001b[0;31mKeyboardInterrupt\u001b[0m                         Traceback (most recent call last)",
      "\u001b[0;32m<ipython-input-16-6914d1fc9cf7>\u001b[0m in \u001b[0;36m<module>\u001b[0;34m\u001b[0m\n\u001b[1;32m      1\u001b[0m \u001b[0minput1\u001b[0m \u001b[0;34m=\u001b[0m \u001b[0mint\u001b[0m\u001b[0;34m(\u001b[0m\u001b[0minput\u001b[0m\u001b[0;34m(\u001b[0m\u001b[0;34m\"Enter a positive integer between 0 and 63: \"\u001b[0m\u001b[0;34m)\u001b[0m\u001b[0;34m)\u001b[0m\u001b[0;34m\u001b[0m\u001b[0;34m\u001b[0m\u001b[0m\n\u001b[0;32m----> 2\u001b[0;31m \u001b[0minput2\u001b[0m \u001b[0;34m=\u001b[0m \u001b[0mint\u001b[0m\u001b[0;34m(\u001b[0m\u001b[0minput\u001b[0m\u001b[0;34m(\u001b[0m\u001b[0;34m\"Enter a positive integer between 0 and 63: \"\u001b[0m\u001b[0;34m)\u001b[0m\u001b[0;34m)\u001b[0m\u001b[0;34m\u001b[0m\u001b[0;34m\u001b[0m\u001b[0m\n\u001b[0m\u001b[1;32m      3\u001b[0m \u001b[0;34m\u001b[0m\u001b[0m\n\u001b[1;32m      4\u001b[0m \u001b[0;32mwhile\u001b[0m \u001b[0;34m(\u001b[0m\u001b[0minput1\u001b[0m \u001b[0;34m<\u001b[0m \u001b[0;36m0\u001b[0m \u001b[0;32mor\u001b[0m \u001b[0minput1\u001b[0m \u001b[0;34m>\u001b[0m \u001b[0;36m63\u001b[0m\u001b[0;34m)\u001b[0m \u001b[0;32mor\u001b[0m \u001b[0;34m(\u001b[0m\u001b[0minput2\u001b[0m \u001b[0;34m<\u001b[0m \u001b[0;36m0\u001b[0m \u001b[0;32mor\u001b[0m \u001b[0minput2\u001b[0m \u001b[0;34m>\u001b[0m \u001b[0;36m63\u001b[0m\u001b[0;34m)\u001b[0m\u001b[0;34m:\u001b[0m\u001b[0;34m\u001b[0m\u001b[0;34m\u001b[0m\u001b[0m\n\u001b[1;32m      5\u001b[0m     \u001b[0minput1\u001b[0m \u001b[0;34m=\u001b[0m \u001b[0mint\u001b[0m\u001b[0;34m(\u001b[0m\u001b[0minput\u001b[0m\u001b[0;34m(\u001b[0m\u001b[0;34m\"Enter a positive integer between 0 and 63: \"\u001b[0m\u001b[0;34m)\u001b[0m\u001b[0;34m)\u001b[0m\u001b[0;34m\u001b[0m\u001b[0;34m\u001b[0m\u001b[0m\n",
      "\u001b[0;32m/usr/lib/python3/dist-packages/ipykernel/kernelbase.py\u001b[0m in \u001b[0;36mraw_input\u001b[0;34m(self, prompt)\u001b[0m\n\u001b[1;32m    855\u001b[0m                 \u001b[0;34m\"raw_input was called, but this frontend does not support input requests.\"\u001b[0m\u001b[0;34m\u001b[0m\u001b[0;34m\u001b[0m\u001b[0m\n\u001b[1;32m    856\u001b[0m             )\n\u001b[0;32m--> 857\u001b[0;31m         return self._input_request(str(prompt),\n\u001b[0m\u001b[1;32m    858\u001b[0m             \u001b[0mself\u001b[0m\u001b[0;34m.\u001b[0m\u001b[0m_parent_ident\u001b[0m\u001b[0;34m,\u001b[0m\u001b[0;34m\u001b[0m\u001b[0;34m\u001b[0m\u001b[0m\n\u001b[1;32m    859\u001b[0m             \u001b[0mself\u001b[0m\u001b[0;34m.\u001b[0m\u001b[0m_parent_header\u001b[0m\u001b[0;34m,\u001b[0m\u001b[0;34m\u001b[0m\u001b[0;34m\u001b[0m\u001b[0m\n",
      "\u001b[0;32m/usr/lib/python3/dist-packages/ipykernel/kernelbase.py\u001b[0m in \u001b[0;36m_input_request\u001b[0;34m(self, prompt, ident, parent, password)\u001b[0m\n\u001b[1;32m    899\u001b[0m             \u001b[0;32mexcept\u001b[0m \u001b[0mKeyboardInterrupt\u001b[0m\u001b[0;34m:\u001b[0m\u001b[0;34m\u001b[0m\u001b[0;34m\u001b[0m\u001b[0m\n\u001b[1;32m    900\u001b[0m                 \u001b[0;31m# re-raise KeyboardInterrupt, to truncate traceback\u001b[0m\u001b[0;34m\u001b[0m\u001b[0;34m\u001b[0m\u001b[0;34m\u001b[0m\u001b[0m\n\u001b[0;32m--> 901\u001b[0;31m                 \u001b[0;32mraise\u001b[0m \u001b[0mKeyboardInterrupt\u001b[0m\u001b[0;34m(\u001b[0m\u001b[0;34m\"Interrupted by user\"\u001b[0m\u001b[0;34m)\u001b[0m \u001b[0;32mfrom\u001b[0m \u001b[0;32mNone\u001b[0m\u001b[0;34m\u001b[0m\u001b[0;34m\u001b[0m\u001b[0m\n\u001b[0m\u001b[1;32m    902\u001b[0m             \u001b[0;32mexcept\u001b[0m \u001b[0mException\u001b[0m \u001b[0;32mas\u001b[0m \u001b[0me\u001b[0m\u001b[0;34m:\u001b[0m\u001b[0;34m\u001b[0m\u001b[0;34m\u001b[0m\u001b[0m\n\u001b[1;32m    903\u001b[0m                 \u001b[0mself\u001b[0m\u001b[0;34m.\u001b[0m\u001b[0mlog\u001b[0m\u001b[0;34m.\u001b[0m\u001b[0mwarning\u001b[0m\u001b[0;34m(\u001b[0m\u001b[0;34m\"Invalid Message:\"\u001b[0m\u001b[0;34m,\u001b[0m \u001b[0mexc_info\u001b[0m\u001b[0;34m=\u001b[0m\u001b[0;32mTrue\u001b[0m\u001b[0;34m)\u001b[0m\u001b[0;34m\u001b[0m\u001b[0;34m\u001b[0m\u001b[0m\n",
      "\u001b[0;31mKeyboardInterrupt\u001b[0m: Interrupted by user"
     ]
    }
   ],
   "source": [
    "input1 = int(input(\"Enter a positive integer between 0 and 15: \"))\n",
    "input2 = int(input(\"Enter a positive integer between 0 and 15: \"))\n",
    "\n",
    "while (input1 < 0 or input1 > 15) or (input2 < 0 or input2 > 15):\n",
    "    input1 = int(input(\"Enter a positive integer between 0 and 15: \"))\n",
    "    input2 = int(input(\"Enter a positive integer between 0 and 15: \"))\n",
    "\n",
    "first = '{0:{fill}3b}'.format(input1, fill='0')\n",
    "second = '{0:{fill}3b}'.format(input2, fill='0')\n",
    "print(first, second)\n"
   ]
  },
  {
   "cell_type": "code",
   "execution_count": null,
   "id": "720b68b2",
   "metadata": {},
   "outputs": [],
   "source": [
    "# We check which number is the longest and we take that length 'n' to declare two quantumRegisters that contain 'n' qubits.\n",
    "l = len(first)\n",
    "l2 = len(second)\n",
    "if l > l2:\n",
    "     n = l\n",
    "else:\n",
    "     n = l2\n",
    "        \n",
    "# Initializing the registers; three quantum registers with n bits each\n",
    "# 1 more with n+1 bits, which will hold the sum of the two #numbers\n",
    "# The last q-register has three bits to temporally store information\n",
    "# The classical register has n+1 bits, which is used to make the sum readable\n",
    "a = QuantumRegister(n) #First number\n",
    "b = QuantumRegister(n) #Second number\n",
    "c = QuantumRegister(n) #Carry bits\n",
    "supp = QuantumRegister(3) #support bit\n",
    "ris = QuantumRegister(n+1) #Result bits\n",
    "cl = ClassicalRegister(n+1) #Classical output\n",
    "\n",
    "# Combining all of them into one quantum circuit\n",
    "qc = QuantumCircuit(a, b, c, supp, ris, cl)\n",
    "qc.draw('mpl')"
   ]
  },
  {
   "cell_type": "code",
   "execution_count": null,
   "id": "7223ce7b",
   "metadata": {},
   "outputs": [],
   "source": [
    "# Setting up the registers using the values inputted\n",
    "# since the qubits initially always start from 0, we use not gate to set 1 our qubits where in the binary number\n",
    "# inserted there is a 1\n",
    "for i in range(l):\n",
    "    if first[i] == \"1\":\n",
    "        qc.x(a[l - (i+1)]) #Flip the qubit from 0 to 1\n",
    "for i in range(l2):\n",
    "    if second[i] == \"1\":\n",
    "        qc.x(b[l2 - (i+1)]) #Flip the qubit from 0 to 1\n",
    "qc.draw('mpl')"
   ]
  },
  {
   "cell_type": "code",
   "execution_count": null,
   "id": "44babba3",
   "metadata": {},
   "outputs": [],
   "source": [
    "# Ripple Carry Adder\n",
    "    \n",
    "# sum = (a xor b) xor cin\n",
    "# cout = (a and b) OR ((a xor b) and cin)\n",
    "# Note: instead of using an OR gate we can use a XOR one. \n",
    "# In fact the two AND, which are the inputs for the OR, can never both be equal to one, \n",
    "# so the last case in the truth table (A=1, B=1) of XOR and OR does not apply, making XOR and OR equal\n",
    "\n",
    "for i in range(n-1):\n",
    "    #SUM\n",
    "    #sum = (a xor b) xor cin\n",
    "    # use cnots to write the XOR of the inputs on qubit 2\n",
    "    qc.cx(a[i], ris[i])\n",
    "    qc.cx(b[i], ris[i])\n",
    "    \n",
    "    qc.cx(c[i], ris[i])\n",
    "\n",
    "    #CARRY\n",
    "    #cout = (a and b) XOR ((a xor b) and cin)\n",
    "    #cout = i+1\n",
    "    #cin = i\n",
    "    # use ccx to write the AND of the inputs on qubit 3\n",
    "    qc.ccx(a[i],b[i],supp[2])\n",
    "    \n",
    "    qc.cx(a[i], supp[0])\n",
    "    qc.cx(b[i], supp[0])\n",
    "    \n",
    "    qc.ccx(supp[0], c[i], supp[1])\n",
    "    \n",
    "    qc.cx(supp[1], c[i+1])\n",
    "    qc.cx(supp[2], c[i+1])  \n",
    "    \n",
    "    #reset to 0 supp\n",
    "    qc.reset([9]*5)\n",
    "    qc.reset([10]*5)\n",
    "    qc.reset([11]*5)\n",
    "\n",
    "#SUM\n",
    "#sum = (a xor b) xor cin\n",
    "qc.cx(a[n-1], ris[n-1])\n",
    "qc.cx(b[n-1], ris[n-1])\n",
    "\n",
    "qc.cx(c[n-1], ris[n-1])\n",
    "\n",
    "#CARRY\n",
    "#cout = (a and b) XOR ((a xor b) and cin)\n",
    "#cout = i+1\n",
    "#cin = i\n",
    "# use ccx to write the AND of the inputs on qubit 3\n",
    "qc.ccx(a[n-1],b[n-1],supp[2])\n",
    "\n",
    "qc.cx(a[n-1], supp[0])\n",
    "qc.cx(b[n-1], supp[0])\n",
    "\n",
    "qc.ccx(supp[0], c[n-1], supp[1])\n",
    "\n",
    "#note: instead of saving the last cout in the c qubit, we store it in the last digit of the result (hence the longer ris + 1)\n",
    "qc.cx(supp[1], ris[n])\n",
    "qc.cx(supp[2], ris[n])  \n",
    "\n",
    "#reset to 0 supp\n",
    "qc.reset([9]*5)\n",
    "qc.reset([10]*5)\n",
    "qc.reset([11]*5)\n",
    "\n",
    "    \n",
    "for i in range(n+1):\n",
    "    qc.measure(ris[i], cl[i])\n",
    "    \n",
    "qc.draw('mpl')"
   ]
  },
  {
   "cell_type": "code",
   "execution_count": null,
   "id": "other-aaron",
   "metadata": {},
   "outputs": [],
   "source": [
    "#Version using the local simulator\n",
    "\n",
    "#Set chosen backend and execute job\n",
    "num_shots = 100 #Setting the number of times to repeat measurement\n",
    "job = execute(qc, backend=Aer.get_backend('qasm_simulator'), shots=num_shots)\n",
    "#Get results of program\n",
    "job_stats = job.result().get_counts()"
   ]
  },
  {
   "cell_type": "code",
   "execution_count": 8,
   "id": "graduate-formation",
   "metadata": {},
   "outputs": [
    {
     "name": "stdout",
     "output_type": "stream",
     "text": [
      "{'01111': 100}\n"
     ]
    }
   ],
   "source": [
    "print(job_stats) "
   ]
  },
  {
   "cell_type": "code",
   "execution_count": null,
   "id": "compatible-publication",
   "metadata": {},
   "outputs": [],
   "source": [
    "#Version using the remote simulator\n",
    "\n",
    "IBMQ.load_account()\n",
    "provider = IBMQ.get_provider()\n",
    "backend = provider.get_backend('ibmq_qasm_simulator')\n",
    "counts = execute(qc, backend, shots=100).result().get_counts()\n",
    "print(counts)"
   ]
  },
  {
   "cell_type": "markdown",
   "id": "affected-relief",
   "metadata": {},
   "source": [
    "# Addition with QFT"
   ]
  },
  {
   "cell_type": "code",
   "execution_count": 18,
   "id": "contemporary-messenger",
   "metadata": {},
   "outputs": [],
   "source": [
    "import math\n",
    "import operator\n",
    "from qiskit import *\n",
    "\n",
    "'''\n",
    "qc: input quantum circuit\n",
    "reg: input register to execute QFT\n",
    "n: n-th qbit to apply hadamard and phase rotation\n",
    "pie: pie number\n",
    "'''\n",
    "def createInputState(qc, reg, n, pie):\n",
    "    # Computes the quantum Fourier transform of reg, one qubit a time\n",
    "    # Apply one Hadamard gate to the n-th qubit of the quantum register reg, and \n",
    "    # then apply repeated phase rotations with parameters being pi divided by \n",
    "    # increasing powers of two\n",
    "    \n",
    "    qc.h(reg[n])    \n",
    "    for i in range(0, n):\n",
    "        qc.cp(pie/float(2**(i+1)), reg[n-(i+1)], reg[n])    \n",
    "\n",
    "'''\n",
    "qc: input quantum circuit\n",
    "reg_a: first input register to execute QFT\n",
    "reg_b: second input register to execute QFT\n",
    "n: n-th qbit to apply hadamard and phase rotation\n",
    "pie: pie number\n",
    "'''\n",
    "def evolveQFTState(qc, reg_a, reg_b, n, pie):\n",
    "    # Evolves the state |F(ψ(reg_a))> to |F(ψ(reg_a+reg_b))> using the quantum \n",
    "    # Fourier transform conditioned on the qubits of the reg_b.\n",
    "    # Apply repeated phase rotations with parameters being pi divided by \n",
    "    # increasing powers of two.\n",
    "    \n",
    "    for i in range(n+1):\n",
    "        qc.cp(pie/float(2**(i)), reg_b[n-i], reg_a[n])\n",
    "\n",
    "'''\n",
    "qc: input quantum circuit\n",
    "reg: input register to execute QFT\n",
    "n: n-th qbit to apply hadamard and phase rotation\n",
    "pie: pie number\n",
    "'''        \n",
    "def inverseQFT(qc, reg, n, pie):\n",
    "    # Performs the inverse quantum Fourier transform on a register reg.\n",
    "    # Apply repeated phase rotations with parameters being pi divided by \n",
    "    # decreasing powers of two, and then apply a Hadamard gate to the nth qubit\n",
    "    # of the register reg.\n",
    "    \n",
    "    for i in range(n):\n",
    "        qc.cp(-1*pie/float(2**(n-i)), reg[i], reg[n])\n",
    "    qc.h(reg[n])\n",
    "    \n",
    "'''\n",
    "first: first number to add\n",
    "second: second number to add\n",
    "n: lenght of both number (normalized to the same binary lenght)\n",
    "a: first input register, representing the first number to add\n",
    "a: second input register, representing the second number to add\n",
    "cl: classical register, to read the result\n",
    "qc: input quantum circuit\n",
    "'''\n",
    "def add(first, second, n, a, b, cl, qc):\n",
    "    # Flip the corresponding qubit in register a if a bit in the string first is a 1\n",
    "    for i in range(n):\n",
    "        if first[i] == \"1\":\n",
    "            qc.x(a[n-(i+1)])\n",
    "    # Flip the corresponding qubit in register b if a bit in the string second is a 1\n",
    "    for i in range(n):\n",
    "        if second[i] == \"1\":\n",
    "            qc.x(b[n-(i+1)])\n",
    "            \n",
    "    # Compute the Fourier transform of register a\n",
    "    for i in range(n+1):\n",
    "        createInputState(qc, a, n-i, pie)\n",
    "        \n",
    "    # Add the two numbers by evolving the Fourier transform F(ψ(reg_a))>\n",
    "    # to |F(ψ(reg_a+reg_b))>\n",
    "    for i in range(n+1):\n",
    "        evolveQFTState(qc, a, b, n-i, pie) \n",
    "        \n",
    "    # Compute the inverse Fourier transform of register a\n",
    "    for i in range(n+1):\n",
    "        inverseQFT(qc, a, i, pie)\n",
    "        \n",
    "    # Measure qubits\n",
    "    for i in range(n+1):\n",
    "        qc.measure(a[i], cl[i])\n",
    "    \n",
    "    # Execute using the local simulator\n",
    "\n",
    "    # Set chosen backend and execute job\n",
    "    num_shots = 100 #Setting the number of times to repeat measurement\n",
    "    job = execute(qc, backend=Aer.get_backend('qasm_simulator'), shots=num_shots)\n",
    "    # Get results of program\n",
    "    job_stats = job.result().get_counts()\n",
    "    print(job_stats)\n",
    "    \n",
    "    # Execute using the remote simulator\n",
    "    '''\n",
    "    IBMQ.load_account()\n",
    "    provider = IBMQ.get_provider()\n",
    "    backend = provider.get_backend('ibmq_qasm_simulator')\n",
    "    counts = execute(qc, backend, shots=100).result().get_counts()\n",
    "    print(counts)\n",
    "    #Select result with maximum probabilities\n",
    "    output = max(counts.items(), key=operator.itemgetter(1))[0]\n",
    "    print(output)\n",
    "    '''"
   ]
  },
  {
   "cell_type": "code",
   "execution_count": 25,
   "id": "valued-genre",
   "metadata": {},
   "outputs": [
    {
     "name": "stdout",
     "output_type": "stream",
     "text": [
      "Enter a positive integer between 0 and 2047: 2\n",
      "Enter a positive integer between 0 and 2047: 3\n",
      "010 011\n",
      "{'0101': 100}\n"
     ]
    },
    {
     "data": {
      "image/png": "[encoded data removed]",
      "text/plain": [
       "<Figure size 1591.74x1167.88 with 1 Axes>"
      ]
     },
     "execution_count": 25,
     "metadata": {},
     "output_type": "execute_result"
    }
   ],
   "source": [
    "input1 = int(input(\"Enter a positive integer between 0 and 2047: \"))\n",
    "input2 = int(input(\"Enter a positive integer between 0 and 2047: \"))\n",
    "\n",
    "while (input1 < 0 or input1 > 2047) or (input2 < 0 or input2 > 2047):\n",
    "    input1 = int(input(\"Enter a positive integer between 0 and 2047: \"))\n",
    "    input2 = int(input(\"Enter a positive integer between 0 and 2047: \"))\n",
    "\n",
    "first = '{0:{fill}3b}'.format(input1, fill='0')\n",
    "second = '{0:{fill}3b}'.format(input2, fill='0')\n",
    "\n",
    "l1 = len(first)\n",
    "l2 = len(second)\n",
    "\n",
    "# Making sure that 'first' and 'second' are of the same length \n",
    "# by padding the smaller string with zeros\n",
    "if l2>l1:\n",
    "    first,second = second, first\n",
    "    l2, l1 = l1, l2\n",
    "second = (\"0\")*(l1-l2) + second\n",
    "n = l1\n",
    "\n",
    "print(first, second)\n",
    "\n",
    "pie = math.pi\n",
    "a = QuantumRegister(n+1, \"a\") \n",
    "b = QuantumRegister(n+1, \"b\")     \n",
    "cl = ClassicalRegister(n+1, \"cl\") \n",
    "qc = QuantumCircuit(a, b, cl, name=\"qc\")\n",
    "\n",
    "add(first, second, l1, a, b, cl, qc)\n",
    "\n",
    "qc.draw('mpl')\n"
   ]
  },
  {
   "cell_type": "code",
   "execution_count": null,
   "id": "grateful-bulgaria",
   "metadata": {},
   "outputs": [],
   "source": []
  }
 ],
 "metadata": {
  "kernelspec": {
   "display_name": "Python 3",
   "language": "python",
   "name": "python3"
  },
  "language_info": {
   "codemirror_mode": {
    "name": "ipython",
    "version": 3
   },
   "file_extension": ".py",
   "mimetype": "text/x-python",
   "name": "python",
   "nbconvert_exporter": "python",
   "pygments_lexer": "ipython3",
   "version": "3.9.2"
  }
 },
 "nbformat": 4,
 "nbformat_minor": 5
}
