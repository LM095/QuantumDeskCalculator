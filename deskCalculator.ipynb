{
 "cells": [
  {
   "cell_type": "markdown",
   "id": "thick-sherman",
   "metadata": {},
   "source": [
    "## Desk calculator project:\n",
    "\n",
    "The task is to build a quantum circuit that performs the difference between the binary reprentations\n",
    "of two positive integers. The circuit can be defined as a variation of the quantum adder explained\n",
    "in class and using the Quantum Fourier Transform.\n",
    "The circuit must be implemented in Qiskit and demonstrated on a one or two instances.\n",
    "The project can be extended with the implementation of a complete desk calculator"
   ]
  },
  {
   "cell_type": "code",
   "execution_count": 16,
   "id": "critical-exposure",
   "metadata": {},
   "outputs": [],
   "source": [
    "from qiskit import QuantumCircuit, Aer, QuantumRegister, ClassicalRegister\n",
    "import qiskit\n",
    "import numpy as np"
   ]
  },
  {
   "cell_type": "markdown",
   "id": "interim-credit",
   "metadata": {},
   "source": [
    "## Adder:"
   ]
  },
  {
   "cell_type": "code",
   "execution_count": 2,
   "id": "viral-arrest",
   "metadata": {},
   "outputs": [
    {
     "data": {
      "text/plain": [
       "3"
      ]
     },
     "execution_count": 2,
     "metadata": {},
     "output_type": "execute_result"
    }
   ],
   "source": [
    "# we want to add two positive integer number on a quantum computer\n",
    "# With the classical computation (on our CPU we have):\n",
    "a = 1\n",
    "b = 2\n",
    "\n",
    "a+b"
   ]
  },
  {
   "cell_type": "markdown",
   "id": "communist-seven",
   "metadata": {},
   "source": [
    "### Toffoli approach"
   ]
  },
  {
   "cell_type": "code",
   "execution_count": 3,
   "id": "international-external",
   "metadata": {},
   "outputs": [],
   "source": [
    "# we first create a quantum circuit:\n",
    "# we create 6 qubits (a0,a1,a2,b1,b2,b3) and a register c where we'll store the result\n",
    "\n",
    "def set_input_state(a, b):\n",
    "    get_binary = lambda x : '{0:{fill}3b}'.format(x, fill='0') # this function transforms digit numbers into binary numbers\n",
    "    \n",
    "    r_a = QuantumRegister(3,'a')\n",
    "    r_b = QuantumRegister(3,'b')\n",
    "    cr = ClassicalRegister(3,'c')\n",
    "    qc = QuantumCircuit(r_a, r_b, cr)\n",
    "    \n",
    "    a_binary = get_binary(a)\n",
    "    b_binary = get_binary(b)\n",
    "    \n",
    "    for i in range(3):\n",
    "        if a_binary[i] == '1': # es. '101' --> '010'\n",
    "            qc.x(r_a[2-i]) # we perform a 'not' operation if the digit is 1\n",
    "        if b_binary[i] == '1': # es. '101' --> '010'\n",
    "            qc.x(r_b[2-i])\n",
    "            \n",
    "    return qc, r_a, r_b, cr\n",
    "            "
   ]
  },
  {
   "cell_type": "code",
   "execution_count": 4,
   "id": "floppy-storm",
   "metadata": {},
   "outputs": [
    {
     "data": {
      "image/png": "[encoded data removed]",
      "text/plain": [
       "<Figure size 267.343x445.48 with 1 Axes>"
      ]
     },
     "execution_count": 4,
     "metadata": {},
     "output_type": "execute_result"
    }
   ],
   "source": [
    "# now we encode the classical sum of a and b onto the qubits\n",
    "# first of all in classical computation, in order to do the addiction of two integer we write the binary notation\n",
    "# of those numbers and we perform 'and' operation.\n",
    "# Then we have to encode the binary notation in quantum computation, and since in quantum computer every qubit starts\n",
    "# off in the state 0, we need to flip the right qubit (with the x-gate).\n",
    "\n",
    "qc, r_a, r_b, cr = set_input_state(1,3)\n",
    "qc.measure(r_b, cr)\n",
    "qc.draw('mpl')"
   ]
  },
  {
   "cell_type": "code",
   "execution_count": 5,
   "id": "falling-childhood",
   "metadata": {},
   "outputs": [
    {
     "name": "stdout",
     "output_type": "stream",
     "text": [
      "{'011': 100}\n"
     ]
    }
   ],
   "source": [
    "backend = Aer.get_backend('qasm_simulator')\n",
    "job = qiskit.execute(qc, backend, shots=100)\n",
    "result = job.result()\n",
    "counts = result.get_counts(qc)\n",
    "print(counts)"
   ]
  },
  {
   "cell_type": "markdown",
   "id": "considerable-packet",
   "metadata": {},
   "source": [
    "### Quantum Fourier Transform (QFT) approach:"
   ]
  },
  {
   "cell_type": "code",
   "execution_count": 17,
   "id": "regulated-credits",
   "metadata": {},
   "outputs": [],
   "source": [
    "from qiskit.circuit.library import QFT\n",
    "\n",
    "def controlled_rotations(qc, reg_a, reg_b, n):\n",
    "    for i in range(0, n+1):\n",
    "        qc.cp(np.pi/2**i, reg_b[n-i], reg_a[n])\n"
   ]
  },
  {
   "cell_type": "code",
   "execution_count": 18,
   "id": "opening-nitrogen",
   "metadata": {},
   "outputs": [
    {
     "data": {
      "image/png": "[encoded data removed]",
      "text/plain": [
       "<Figure size 989.743x445.48 with 1 Axes>"
      ]
     },
     "execution_count": 18,
     "metadata": {},
     "output_type": "execute_result"
    }
   ],
   "source": [
    "qc, r_a, r_b, cr = set_input_state(1,3)\n",
    "qc.append(QFT(3, do_swaps=False), [2, 1, 0])\n",
    "\n",
    "for i in range(0,3):\n",
    "    controlled_rotations(qc, r_a, r_b, 2-i)\n",
    "\n",
    "qc.append(QFT(3, do_swaps=False).inverse(), [2, 1, 0]) \n",
    "qc.measure(r_a, cr)\n",
    "qc.draw('mpl')"
   ]
  },
  {
   "cell_type": "code",
   "execution_count": 19,
   "id": "ongoing-wrist",
   "metadata": {},
   "outputs": [
    {
     "name": "stdout",
     "output_type": "stream",
     "text": [
      "{'000': 3, '110': 13, '011': 3, '111': 81}\n"
     ]
    }
   ],
   "source": [
    "backend = Aer.get_backend('qasm_simulator')\n",
    "job = qiskit.execute(qc, backend, shots=100)\n",
    "result = job.result()\n",
    "counts = result.get_counts(qc)\n",
    "print(counts)"
   ]
  },
  {
   "cell_type": "code",
   "execution_count": null,
   "id": "solar-relay",
   "metadata": {},
   "outputs": [],
   "source": []
  }
 ],
 "metadata": {
  "kernelspec": {
   "display_name": "Python 3",
   "language": "python",
   "name": "python3"
  },
  "language_info": {
   "codemirror_mode": {
    "name": "ipython",
    "version": 3
   },
   "file_extension": ".py",
   "mimetype": "text/x-python",
   "name": "python",
   "nbconvert_exporter": "python",
   "pygments_lexer": "ipython3",
   "version": "3.9.5"
  }
 },
 "nbformat": 4,
 "nbformat_minor": 5
}
